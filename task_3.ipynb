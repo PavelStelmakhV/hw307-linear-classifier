{
  "nbformat": 4,
  "nbformat_minor": 0,
  "metadata": {
    "colab": {
      "provenance": [],
      "authorship_tag": "ABX9TyMwaFfBoYO154y5aF96Fxc9",
      "include_colab_link": true
    },
    "kernelspec": {
      "name": "python3",
      "display_name": "Python 3"
    },
    "language_info": {
      "name": "python"
    }
  },
  "cells": [
    {
      "cell_type": "markdown",
      "metadata": {
        "id": "view-in-github",
        "colab_type": "text"
      },
      "source": [
        "<a href=\"https://colab.research.google.com/github/PavelStelmakhV/hw307-linear-classifier/blob/main/task_3.ipynb\" target=\"_parent\"><img src=\"https://colab.research.google.com/assets/colab-badge.svg\" alt=\"Open In Colab\"/></a>"
      ]
    },
    {
      "cell_type": "code",
      "source": [
        "import numpy as np\n",
        "from sklearn.datasets import load_diabetes\n",
        "from sklearn.linear_model import LinearRegression\n",
        "from sklearn.model_selection import train_test_split\n",
        "from sklearn.metrics import mean_squared_error, r2_score"
      ],
      "metadata": {
        "id": "pxTLw2rgZsU6"
      },
      "execution_count": 40,
      "outputs": []
    },
    {
      "cell_type": "markdown",
      "source": [
        "Доля тестовой выборки 10%"
      ],
      "metadata": {
        "id": "Y6f7gOCxcGPU"
      }
    },
    {
      "cell_type": "code",
      "source": [
        "X, y = load_diabetes(return_X_y=True)\n",
        "X_train, X_test, y_train, y_test = train_test_split(X, y, test_size=0.1, \n",
        "                                                    random_state=42, shuffle=True)\n",
        "regr = LinearRegression().fit(X_train, y_train)\n",
        "y_pred = regr.predict(X_test)\n",
        "print(\"Среднеквадратическая логарифмическая ошибка: %.2f\" % mean_squared_error(y_test, y_pred))\n",
        "print(\"Прогноза коэффициентa детерминации: %.2f\" % regr.score(X_train, y_train))\n",
        "print(\"Коэффициент детерминации: %.2f\" % r2_score(y_test, y_pred))"
      ],
      "metadata": {
        "colab": {
          "base_uri": "https://localhost:8080/"
        },
        "id": "yIkSm0O_cJqf",
        "outputId": "da1d980f-58bf-4665-e5f8-3e5274b79ab4"
      },
      "execution_count": 58,
      "outputs": [
        {
          "output_type": "stream",
          "name": "stdout",
          "text": [
            "Среднеквадратическая логарифмическая ошибка: 2743.91\n",
            "Прогноза коэффициентa детерминации: 0.51\n",
            "Коэффициент детерминации: 0.55\n"
          ]
        }
      ]
    },
    {
      "cell_type": "markdown",
      "source": [
        "Доля тестовой выборки 33%"
      ],
      "metadata": {
        "id": "0z6BCrk-ZwyI"
      }
    },
    {
      "cell_type": "code",
      "execution_count": 51,
      "metadata": {
        "id": "mEFvxnFocBjo",
        "colab": {
          "base_uri": "https://localhost:8080/"
        },
        "outputId": "02a15a09-5168-4752-9611-5495d17573a6"
      },
      "outputs": [
        {
          "output_type": "stream",
          "name": "stdout",
          "text": [
            "Среднеквадратическая логарифмическая ошибка: 2817.81\n",
            "Прогноза коэффициентa детерминации: 0.51\n",
            "Коэффициент детерминации: 0.51\n"
          ]
        }
      ],
      "source": [
        "X, y = load_diabetes(return_X_y=True)\n",
        "X_train, X_test, y_train, y_test = train_test_split(X, y, test_size=0.33, \n",
        "                                                    random_state=42, shuffle=True)\n",
        "regr = LinearRegression().fit(X_train, y_train)\n",
        "y_pred = regr.predict(X_test)\n",
        "print(\"Среднеквадратическая логарифмическая ошибка: %.2f\" % mean_squared_error(y_test, y_pred))\n",
        "print(\"Прогноза коэффициентa детерминации: %.2f\" % regr.score(X_train, y_train))\n",
        "print(\"Коэффициент детерминации: %.2f\" % r2_score(y_test, y_pred))"
      ]
    },
    {
      "cell_type": "markdown",
      "source": [
        "Доля тестовой выборки 50%"
      ],
      "metadata": {
        "id": "qvO1zjtAayhV"
      }
    },
    {
      "cell_type": "code",
      "source": [
        "X, y = load_diabetes(return_X_y=True)\n",
        "X_train, X_test, y_train, y_test = train_test_split(X, y, test_size=0.5, \n",
        "                                                    random_state=42, shuffle=True)\n",
        "regr = LinearRegression().fit(X_train, y_train)\n",
        "y_pred = regr.predict(X_test)\n",
        "print(\"Среднеквадратическая логарифмическая ошибка: %.2f\" % mean_squared_error(y_test, y_pred))\n",
        "print(\"Прогноза коэффициентa детерминации: %.2f\" % regr.score(X_train, y_train))\n",
        "print(\"Коэффициент детерминации: %.2f\" % r2_score(y_test, y_pred))"
      ],
      "metadata": {
        "colab": {
          "base_uri": "https://localhost:8080/"
        },
        "id": "FxHUhA4YZ59Z",
        "outputId": "57c50428-f8e3-4abf-fced-973550c11440"
      },
      "execution_count": 53,
      "outputs": [
        {
          "output_type": "stream",
          "name": "stdout",
          "text": [
            "Среднеквадратическая логарифмическая ошибка: 2978.60\n",
            "Прогноза коэффициентa детерминации: 0.53\n",
            "Коэффициент детерминации: 0.48\n"
          ]
        }
      ]
    },
    {
      "cell_type": "markdown",
      "source": [
        "Доля тестовой выборки 80%"
      ],
      "metadata": {
        "id": "fmLa6MneZ3fI"
      }
    },
    {
      "cell_type": "code",
      "source": [
        "X, y = load_diabetes(return_X_y=True)\n",
        "X_train, X_test, y_train, y_test = train_test_split(X, y, test_size=0.8, \n",
        "                                                    random_state=42, shuffle=True)\n",
        "regr = LinearRegression().fit(X_train, y_train)\n",
        "y_pred = regr.predict(X_test)\n",
        "print(\"Среднеквадратическая логарифмическая ошибка: %.2f\" % mean_squared_error(y_test, y_pred))\n",
        "print(\"Прогноза коэффициентa детерминации: %.2f\" % regr.score(X_train, y_train))\n",
        "print(\"Коэффициент детерминации: %.2f\" % r2_score(y_test, y_pred))"
      ],
      "metadata": {
        "colab": {
          "base_uri": "https://localhost:8080/"
        },
        "id": "CQpm7NknaOYw",
        "outputId": "abc20b3a-540e-4185-d52f-791ba0099fd3"
      },
      "execution_count": 54,
      "outputs": [
        {
          "output_type": "stream",
          "name": "stdout",
          "text": [
            "Среднеквадратическая логарифмическая ошибка: 3371.17\n",
            "Прогноза коэффициентa детерминации: 0.47\n",
            "Коэффициент детерминации: 0.44\n"
          ]
        }
      ]
    },
    {
      "cell_type": "markdown",
      "source": [
        "Чем меньше доля тестовой выборки, тем точнее модель (ниже среднеквадратическая логарифмическая ошибка и выше коэффициент детерминации)"
      ],
      "metadata": {
        "id": "f4nwbRSGcV2-"
      }
    }
  ]
}