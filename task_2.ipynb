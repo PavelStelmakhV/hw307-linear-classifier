{
  "nbformat": 4,
  "nbformat_minor": 0,
  "metadata": {
    "colab": {
      "provenance": [],
      "authorship_tag": "ABX9TyOfGaTWN3q2M3lXThuJZmuo",
      "include_colab_link": true
    },
    "kernelspec": {
      "name": "python3",
      "display_name": "Python 3"
    },
    "language_info": {
      "name": "python"
    }
  },
  "cells": [
    {
      "cell_type": "markdown",
      "metadata": {
        "id": "view-in-github",
        "colab_type": "text"
      },
      "source": [
        "<a href=\"https://colab.research.google.com/github/PavelStelmakhV/hw307-linear-classifier/blob/main/task_2.ipynb\" target=\"_parent\"><img src=\"https://colab.research.google.com/assets/colab-badge.svg\" alt=\"Open In Colab\"/></a>"
      ]
    },
    {
      "cell_type": "code",
      "execution_count": 13,
      "metadata": {
        "id": "VSyEO6rDzkbS"
      },
      "outputs": [],
      "source": [
        "import numpy as np\n",
        "from sklearn.datasets import load_iris\n",
        "from sklearn.model_selection import train_test_split\n",
        "from sklearn.linear_model import RidgeClassifier\n",
        "from sklearn.multiclass import OneVsRestClassifier\n",
        "from sklearn.svm import SVC"
      ]
    },
    {
      "cell_type": "markdown",
      "source": [
        "Используя RidgeClassifier"
      ],
      "metadata": {
        "id": "X9qAfnGo0UzA"
      }
    },
    {
      "cell_type": "code",
      "source": [
        "X, y = load_iris(return_X_y=True)\n",
        "X_train, X_test, y_train, y_test = train_test_split(X, y, test_size=0.33, random_state=42, shuffle=True)\n",
        "clf = RidgeClassifier().fit(X_train, y_train)\n",
        "y_pred = clf.predict(X_test)\n",
        "accuracy = (y_pred == y_test).astype(int).sum() / len(y_test)\n",
        "print(f'Точность модели на тренировочной выборке {clf.score(X_train, y_train) * 100}%')\n",
        "print(f'Точность модели на тестовой выборке {round(accuracy * 100, 2)}%')"
      ],
      "metadata": {
        "colab": {
          "base_uri": "https://localhost:8080/"
        },
        "id": "CgFVS9Uw0Vcw",
        "outputId": "0fe5164a-0ccf-4eb0-9d01-b523a635dc93"
      },
      "execution_count": 14,
      "outputs": [
        {
          "output_type": "stream",
          "name": "stdout",
          "text": [
            "Точность модели на тренировочной выборке 88.0%\n",
            "Точность модели на тестовой выборке 80.0%\n"
          ]
        }
      ]
    },
    {
      "cell_type": "markdown",
      "source": [
        "Используя OneVsRestClassifier"
      ],
      "metadata": {
        "id": "LwczHShz03xH"
      }
    },
    {
      "cell_type": "markdown",
      "source": [
        "Доля тестовой выборки 33%"
      ],
      "metadata": {
        "id": "inSHoPSMlN6F"
      }
    },
    {
      "cell_type": "code",
      "source": [
        "X, y = load_iris(return_X_y=True)\n",
        "X_train, X_test, y_train, y_test = train_test_split(X, y, test_size=0.33, random_state=42, shuffle=True)\n",
        "clf = OneVsRestClassifier(SVC()).fit(X_train, y_train)\n",
        "y_pred = clf.predict(X_test)\n",
        "accuracy = (y_pred == y_test).astype(int).sum() / len(y_test)\n",
        "print(f'Точность модели на тренировочной выборке {clf.score(X_train, y_train) * 100}%')\n",
        "print(f'Точность модели на тестовой выборке {round(accuracy * 100, 2)}%')"
      ],
      "metadata": {
        "colab": {
          "base_uri": "https://localhost:8080/"
        },
        "id": "8EWMW51F04kw",
        "outputId": "bfebbe28-89b5-4d0f-95e3-4cbed280c0fb"
      },
      "execution_count": 15,
      "outputs": [
        {
          "output_type": "stream",
          "name": "stdout",
          "text": [
            "Точность модели на тренировочной выборке 94.0%\n",
            "Точность модели на тестовой выборке 100.0%\n"
          ]
        }
      ]
    },
    {
      "cell_type": "markdown",
      "source": [
        "Доля тестовой выборки 66%"
      ],
      "metadata": {
        "id": "6wjitqbmlR3s"
      }
    },
    {
      "cell_type": "code",
      "source": [
        "X, y = load_iris(return_X_y=True)\n",
        "X_train, X_test, y_train, y_test = train_test_split(X, y, test_size=0.66, random_state=42, shuffle=True)\n",
        "clf = OneVsRestClassifier(SVC()).fit(X_train, y_train)\n",
        "y_pred = clf.predict(X_test)\n",
        "accuracy = (y_pred == y_test).astype(int).sum() / len(y_test)\n",
        "print(f'Точность модели на тренировочной выборке {round(clf.score(X_train, y_train) * 100, 2)}%')\n",
        "print(f'Точность модели на тестовой выборке {round(accuracy * 100, 2)}%')"
      ],
      "metadata": {
        "id": "sIfIWumwlUGD",
        "outputId": "44e08c88-598c-460e-8154-a9b13545af84",
        "colab": {
          "base_uri": "https://localhost:8080/"
        }
      },
      "execution_count": 16,
      "outputs": [
        {
          "output_type": "stream",
          "name": "stdout",
          "text": [
            "Точность модели на тренировочной выборке 96.08%\n",
            "Точность модели на тестовой выборке 92.93%\n"
          ]
        }
      ]
    },
    {
      "cell_type": "markdown",
      "source": [
        "Доля тестовой выборки 90%"
      ],
      "metadata": {
        "id": "eez5i0FX0_mX"
      }
    },
    {
      "cell_type": "code",
      "source": [
        "X, y = load_iris(return_X_y=True)\n",
        "X_train, X_test, y_train, y_test = train_test_split(X, y, test_size=0.90, random_state=54, shuffle=True)\n",
        "clf = OneVsRestClassifier(SVC()).fit(X_train, y_train)\n",
        "y_pred = clf.predict(X_test)\n",
        "accuracy = (y_pred == y_test).astype(int).sum() / len(y_test)\n",
        "print(f'Точность модели на тренировочной выборке {round(clf.score(X_train, y_train) * 100, 2)}%')\n",
        "print(f'Точность модели на тестовой выборке {round(accuracy * 100, 2)}%')"
      ],
      "metadata": {
        "colab": {
          "base_uri": "https://localhost:8080/"
        },
        "id": "m3TktV4_1CMH",
        "outputId": "0eeb6465-89fe-4284-95ba-e2f8514e4f64"
      },
      "execution_count": 17,
      "outputs": [
        {
          "output_type": "stream",
          "name": "stdout",
          "text": [
            "Точность модели на тренировочной выборке 93.33%\n",
            "Точность модели на тестовой выборке 91.11%\n"
          ]
        }
      ]
    },
    {
      "cell_type": "markdown",
      "source": [
        "При снижении доли тестовой выборки - точность модели увеличивается"
      ],
      "metadata": {
        "id": "_F0WS6D36KCI"
      }
    }
  ]
}