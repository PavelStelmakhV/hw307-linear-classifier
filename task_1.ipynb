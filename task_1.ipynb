{
  "nbformat": 4,
  "nbformat_minor": 0,
  "metadata": {
    "colab": {
      "provenance": [],
      "authorship_tag": "ABX9TyO8uq0w1xZUcv+LBXvvICA5",
      "include_colab_link": true
    },
    "kernelspec": {
      "name": "python3",
      "display_name": "Python 3"
    },
    "language_info": {
      "name": "python"
    }
  },
  "cells": [
    {
      "cell_type": "markdown",
      "metadata": {
        "id": "view-in-github",
        "colab_type": "text"
      },
      "source": [
        "<a href=\"https://colab.research.google.com/github/PavelStelmakhV/hw307-linear-classifier/blob/main/task_1.ipynb\" target=\"_parent\"><img src=\"https://colab.research.google.com/assets/colab-badge.svg\" alt=\"Open In Colab\"/></a>"
      ]
    },
    {
      "cell_type": "code",
      "execution_count": 1,
      "metadata": {
        "id": "5hDKX_7Ajdy3"
      },
      "outputs": [],
      "source": [
        "import numpy as np\n",
        "from sklearn.datasets import load_wine\n",
        "from sklearn.model_selection import train_test_split\n",
        "from sklearn.linear_model import RidgeClassifier\n",
        "from sklearn.multiclass import OneVsRestClassifier\n",
        "from sklearn.svm import SVC"
      ]
    },
    {
      "cell_type": "markdown",
      "source": [
        "Используя RidgeClassifier"
      ],
      "metadata": {
        "id": "mLyJkrcGrrMY"
      }
    },
    {
      "cell_type": "code",
      "source": [
        "wine_dataset = load_wine()\n",
        "X_train, X_test, y_train, y_test = train_test_split(wine_dataset.data, wine_dataset.target, test_size=0.33, random_state=42, shuffle=True)\n",
        "clf = RidgeClassifier().fit(X_train, y_train)\n",
        "clf.score(X_train, y_train)\n",
        "y_pred = clf.predict(X_test)\n",
        "accuracy = (y_pred == y_test).astype(int).sum() / len(y_test)\n",
        "print(f'Точность модели на тестовой выборке {round(accuracy * 100, 2)}%')"
      ],
      "metadata": {
        "colab": {
          "base_uri": "https://localhost:8080/"
        },
        "id": "yeEc2j0urbRp",
        "outputId": "3b1f21bf-b8e5-465e-fd1f-5139a349dad4"
      },
      "execution_count": 15,
      "outputs": [
        {
          "output_type": "stream",
          "name": "stdout",
          "text": [
            "Точность модели на тестовой выборке 98.31%\n"
          ]
        }
      ]
    },
    {
      "cell_type": "markdown",
      "source": [
        "Используя OneVsRestClassifier"
      ],
      "metadata": {
        "id": "96rjsAoQx-iW"
      }
    },
    {
      "cell_type": "markdown",
      "source": [
        "Доля тестовой выборки 10%"
      ],
      "metadata": {
        "id": "7XWODKKFe-mf"
      }
    },
    {
      "cell_type": "code",
      "source": [
        "wine_dataset = load_wine()\n",
        "X_train, X_test, y_train, y_test = train_test_split(wine_dataset.data, wine_dataset.target, test_size=0.1, random_state=42, shuffle=True)\n",
        "clf = OneVsRestClassifier(SVC()).fit(X_train, y_train)\n",
        "clf.score(X_train, y_train)\n",
        "y_pred = clf.predict(X_test)\n",
        "accuracy = (y_pred == y_test).astype(int).sum() / len(y_test)\n",
        "print(f'Точность модели на тестовой выборке {round(accuracy * 100, 2)}%')"
      ],
      "metadata": {
        "colab": {
          "base_uri": "https://localhost:8080/"
        },
        "id": "GDW-Gl9yfAl_",
        "outputId": "f6573e71-03a2-4af0-ccc2-aa449a0caecc"
      },
      "execution_count": 20,
      "outputs": [
        {
          "output_type": "stream",
          "name": "stdout",
          "text": [
            "Точность модели на тестовой выборке 77.78%\n"
          ]
        }
      ]
    },
    {
      "cell_type": "markdown",
      "source": [
        "Доля тестовой выборки 33%"
      ],
      "metadata": {
        "id": "3OudVMYye6qn"
      }
    },
    {
      "cell_type": "code",
      "source": [
        "wine_dataset = load_wine()\n",
        "X_train, X_test, y_train, y_test = train_test_split(wine_dataset.data, wine_dataset.target, test_size=0.33, random_state=42, shuffle=True)\n",
        "clf = OneVsRestClassifier(SVC()).fit(X_train, y_train)\n",
        "clf.score(X_train, y_train)\n",
        "y_pred = clf.predict(X_test)\n",
        "accuracy = (y_pred == y_test).astype(int).sum() / len(y_test)\n",
        "print(f'Точность модели на тестовой выборке {round(accuracy * 100, 2)}%')"
      ],
      "metadata": {
        "colab": {
          "base_uri": "https://localhost:8080/"
        },
        "id": "XZukwvqaqc3z",
        "outputId": "85358ce1-4f5e-4ee1-a3d3-c84dfb84e604"
      },
      "execution_count": 21,
      "outputs": [
        {
          "output_type": "stream",
          "name": "stdout",
          "text": [
            "Точность модели на тестовой выборке 71.19%\n"
          ]
        }
      ]
    },
    {
      "cell_type": "markdown",
      "source": [
        "Доля тестовой выборки 80%"
      ],
      "metadata": {
        "id": "TcFZ5dm9yNLe"
      }
    },
    {
      "cell_type": "code",
      "source": [
        "wine_dataset = load_wine()\n",
        "X_train, X_test, y_train, y_test = train_test_split(wine_dataset.data, wine_dataset.target, test_size=0.80, random_state=42, shuffle=True)\n",
        "clf = OneVsRestClassifier(SVC()).fit(X_train, y_train)\n",
        "clf.score(X_train, y_train)\n",
        "y_pred = clf.predict(X_test)\n",
        "accuracy = (y_pred == y_test).astype(int).sum() / len(y_test)\n",
        "print(f'Точность модели на тестовой выборке {round(accuracy * 100, 2)}%')"
      ],
      "metadata": {
        "colab": {
          "base_uri": "https://localhost:8080/"
        },
        "id": "rc1SI8M7ySe9",
        "outputId": "f2e89a88-6d8a-4c0f-bf7f-5cd847f0ab8c"
      },
      "execution_count": 22,
      "outputs": [
        {
          "output_type": "stream",
          "name": "stdout",
          "text": [
            "Точность модели на тестовой выборке 69.23%\n"
          ]
        }
      ]
    },
    {
      "cell_type": "markdown",
      "source": [
        "При снижении доли тестовой выборки - точность модели увеличивается"
      ],
      "metadata": {
        "id": "frggRh4kzKmv"
      }
    }
  ]
}